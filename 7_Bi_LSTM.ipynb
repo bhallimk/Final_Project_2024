{
 "cells": [
  {
   "cell_type": "code",
   "execution_count": 1,
   "id": "9a02aff4-d7a5-4218-8f99-c87629c02f61",
   "metadata": {},
   "outputs": [],
   "source": [
    "import pandas as pd\n",
    "import numpy as np\n",
    "import matplotlib.pyplot as plt\n",
    "import tensorflow as tf\n",
    "from sklearn.model_selection import train_test_split\n",
    "from sklearn.preprocessing import LabelEncoder\n",
    "from tensorflow.keras.models import Sequential\n",
    "from tensorflow.keras.layers import Embedding, SpatialDropout1D, LSTM, Bidirectional, Dense, Dropout\n",
    "\n",
    "from tensorflow.keras.preprocessing.text import Tokenizer\n",
    "from tensorflow.keras.preprocessing.sequence import pad_sequences\n",
    "from tensorflow.keras.callbacks import EarlyStopping"
   ]
  },
  {
   "cell_type": "code",
   "execution_count": 2,
   "id": "4608def1-7dac-4fb5-9f5d-82a4455a7110",
   "metadata": {},
   "outputs": [
    {
     "data": {
      "text/html": [
       "<div>\n",
       "<style scoped>\n",
       "    .dataframe tbody tr th:only-of-type {\n",
       "        vertical-align: middle;\n",
       "    }\n",
       "\n",
       "    .dataframe tbody tr th {\n",
       "        vertical-align: top;\n",
       "    }\n",
       "\n",
       "    .dataframe thead th {\n",
       "        text-align: right;\n",
       "    }\n",
       "</style>\n",
       "<table border=\"1\" class=\"dataframe\">\n",
       "  <thead>\n",
       "    <tr style=\"text-align: right;\">\n",
       "      <th></th>\n",
       "      <th>Product Name</th>\n",
       "      <th>Brand Name</th>\n",
       "      <th>Price</th>\n",
       "      <th>Rating</th>\n",
       "      <th>Reviews</th>\n",
       "      <th>Review Votes</th>\n",
       "      <th>sentiment</th>\n",
       "      <th>neg</th>\n",
       "      <th>neu</th>\n",
       "      <th>pos</th>\n",
       "      <th>compound</th>\n",
       "    </tr>\n",
       "  </thead>\n",
       "  <tbody>\n",
       "    <tr>\n",
       "      <th>0</th>\n",
       "      <td>\"CLEAR CLEAN ESN\" Sprint EPIC 4G Galaxy SPH-D7...</td>\n",
       "      <td>samsung</td>\n",
       "      <td>199.99</td>\n",
       "      <td>5</td>\n",
       "      <td>feel lucky found used phone u used hard phone ...</td>\n",
       "      <td>1.0</td>\n",
       "      <td>positive</td>\n",
       "      <td>0.100</td>\n",
       "      <td>0.592</td>\n",
       "      <td>0.308</td>\n",
       "      <td>0.8966</td>\n",
       "    </tr>\n",
       "    <tr>\n",
       "      <th>1</th>\n",
       "      <td>\"CLEAR CLEAN ESN\" Sprint EPIC 4G Galaxy SPH-D7...</td>\n",
       "      <td>samsung</td>\n",
       "      <td>199.99</td>\n",
       "      <td>4</td>\n",
       "      <td>nice phone nice grade pantach revue clean set ...</td>\n",
       "      <td>0.0</td>\n",
       "      <td>positive</td>\n",
       "      <td>0.155</td>\n",
       "      <td>0.445</td>\n",
       "      <td>0.400</td>\n",
       "      <td>0.8548</td>\n",
       "    </tr>\n",
       "    <tr>\n",
       "      <th>2</th>\n",
       "      <td>\"CLEAR CLEAN ESN\" Sprint EPIC 4G Galaxy SPH-D7...</td>\n",
       "      <td>samsung</td>\n",
       "      <td>199.99</td>\n",
       "      <td>5</td>\n",
       "      <td>pleased</td>\n",
       "      <td>0.0</td>\n",
       "      <td>positive</td>\n",
       "      <td>0.000</td>\n",
       "      <td>0.000</td>\n",
       "      <td>1.000</td>\n",
       "      <td>0.4404</td>\n",
       "    </tr>\n",
       "    <tr>\n",
       "      <th>3</th>\n",
       "      <td>\"CLEAR CLEAN ESN\" Sprint EPIC 4G Galaxy SPH-D7...</td>\n",
       "      <td>samsung</td>\n",
       "      <td>199.99</td>\n",
       "      <td>4</td>\n",
       "      <td>work good go slow sometimes good phone love</td>\n",
       "      <td>0.0</td>\n",
       "      <td>positive</td>\n",
       "      <td>0.000</td>\n",
       "      <td>0.333</td>\n",
       "      <td>0.667</td>\n",
       "      <td>0.8750</td>\n",
       "    </tr>\n",
       "    <tr>\n",
       "      <th>4</th>\n",
       "      <td>\"CLEAR CLEAN ESN\" Sprint EPIC 4G Galaxy SPH-D7...</td>\n",
       "      <td>samsung</td>\n",
       "      <td>199.99</td>\n",
       "      <td>4</td>\n",
       "      <td>great phone replace lost phone thing volume bu...</td>\n",
       "      <td>0.0</td>\n",
       "      <td>positive</td>\n",
       "      <td>0.103</td>\n",
       "      <td>0.714</td>\n",
       "      <td>0.183</td>\n",
       "      <td>0.4215</td>\n",
       "    </tr>\n",
       "  </tbody>\n",
       "</table>\n",
       "</div>"
      ],
      "text/plain": [
       "                                        Product Name Brand Name   Price  \\\n",
       "0  \"CLEAR CLEAN ESN\" Sprint EPIC 4G Galaxy SPH-D7...    samsung  199.99   \n",
       "1  \"CLEAR CLEAN ESN\" Sprint EPIC 4G Galaxy SPH-D7...    samsung  199.99   \n",
       "2  \"CLEAR CLEAN ESN\" Sprint EPIC 4G Galaxy SPH-D7...    samsung  199.99   \n",
       "3  \"CLEAR CLEAN ESN\" Sprint EPIC 4G Galaxy SPH-D7...    samsung  199.99   \n",
       "4  \"CLEAR CLEAN ESN\" Sprint EPIC 4G Galaxy SPH-D7...    samsung  199.99   \n",
       "\n",
       "   Rating                                            Reviews  Review Votes  \\\n",
       "0       5  feel lucky found used phone u used hard phone ...           1.0   \n",
       "1       4  nice phone nice grade pantach revue clean set ...           0.0   \n",
       "2       5                                            pleased           0.0   \n",
       "3       4        work good go slow sometimes good phone love           0.0   \n",
       "4       4  great phone replace lost phone thing volume bu...           0.0   \n",
       "\n",
       "  sentiment    neg    neu    pos  compound  \n",
       "0  positive  0.100  0.592  0.308    0.8966  \n",
       "1  positive  0.155  0.445  0.400    0.8548  \n",
       "2  positive  0.000  0.000  1.000    0.4404  \n",
       "3  positive  0.000  0.333  0.667    0.8750  \n",
       "4  positive  0.103  0.714  0.183    0.4215  "
      ]
     },
     "execution_count": 2,
     "metadata": {},
     "output_type": "execute_result"
    }
   ],
   "source": [
    "df = pd.read_csv('Preprocess_Reviews.csv')\n",
    "df.head()"
   ]
  },
  {
   "cell_type": "code",
   "execution_count": 3,
   "id": "20fe2f4b-eb09-4902-9feb-ff711e146999",
   "metadata": {},
   "outputs": [],
   "source": [
    "#Drop unnecessary columns:\n",
    "df = df.drop(['Product Name', 'Price', 'Review Votes', 'Brand Name'], axis=1)\n",
    "df.dropna(inplace=True)"
   ]
  },
  {
   "cell_type": "code",
   "execution_count": 4,
   "id": "193b6406-eeb3-4399-a13b-fa9139048400",
   "metadata": {},
   "outputs": [],
   "source": [
    "df_Positive = df[df['sentiment'] == 'positive'][0:20000]\n",
    "df_Neutral = df[df['sentiment'] == 'neutral']\n",
    "df_Negative = df[df['sentiment'] == 'negative']"
   ]
  },
  {
   "cell_type": "code",
   "execution_count": 5,
   "id": "5a263528-e072-4c64-83d0-6155bbea9bb6",
   "metadata": {},
   "outputs": [],
   "source": [
    "df_Neutral_over = df_Neutral.sample(20000, replace=True)\n",
    "df_Negative_over = df_Negative.sample(20000, replace=True)\n",
    "df = pd.concat([df_Positive, df_Neutral_over, df_Negative_over], axis=0)"
   ]
  },
  {
   "cell_type": "code",
   "execution_count": 6,
   "id": "88bdc46d-552c-42e3-947f-ee9429b6dba2",
   "metadata": {},
   "outputs": [
    {
     "data": {
      "text/html": [
       "<div>\n",
       "<style scoped>\n",
       "    .dataframe tbody tr th:only-of-type {\n",
       "        vertical-align: middle;\n",
       "    }\n",
       "\n",
       "    .dataframe tbody tr th {\n",
       "        vertical-align: top;\n",
       "    }\n",
       "\n",
       "    .dataframe thead th {\n",
       "        text-align: right;\n",
       "    }\n",
       "</style>\n",
       "<table border=\"1\" class=\"dataframe\">\n",
       "  <thead>\n",
       "    <tr style=\"text-align: right;\">\n",
       "      <th></th>\n",
       "      <th>Rating</th>\n",
       "      <th>Reviews</th>\n",
       "      <th>sentiment</th>\n",
       "      <th>neg</th>\n",
       "      <th>neu</th>\n",
       "      <th>pos</th>\n",
       "      <th>compound</th>\n",
       "    </tr>\n",
       "  </thead>\n",
       "  <tbody>\n",
       "    <tr>\n",
       "      <th>0</th>\n",
       "      <td>5</td>\n",
       "      <td>feel lucky found used phone u used hard phone ...</td>\n",
       "      <td>positive</td>\n",
       "      <td>0.100</td>\n",
       "      <td>0.592</td>\n",
       "      <td>0.308</td>\n",
       "      <td>0.8966</td>\n",
       "    </tr>\n",
       "    <tr>\n",
       "      <th>1</th>\n",
       "      <td>4</td>\n",
       "      <td>nice phone nice grade pantach revue clean set ...</td>\n",
       "      <td>positive</td>\n",
       "      <td>0.155</td>\n",
       "      <td>0.445</td>\n",
       "      <td>0.400</td>\n",
       "      <td>0.8548</td>\n",
       "    </tr>\n",
       "    <tr>\n",
       "      <th>2</th>\n",
       "      <td>5</td>\n",
       "      <td>pleased</td>\n",
       "      <td>positive</td>\n",
       "      <td>0.000</td>\n",
       "      <td>0.000</td>\n",
       "      <td>1.000</td>\n",
       "      <td>0.4404</td>\n",
       "    </tr>\n",
       "    <tr>\n",
       "      <th>3</th>\n",
       "      <td>4</td>\n",
       "      <td>work good go slow sometimes good phone love</td>\n",
       "      <td>positive</td>\n",
       "      <td>0.000</td>\n",
       "      <td>0.333</td>\n",
       "      <td>0.667</td>\n",
       "      <td>0.8750</td>\n",
       "    </tr>\n",
       "    <tr>\n",
       "      <th>4</th>\n",
       "      <td>4</td>\n",
       "      <td>great phone replace lost phone thing volume bu...</td>\n",
       "      <td>positive</td>\n",
       "      <td>0.103</td>\n",
       "      <td>0.714</td>\n",
       "      <td>0.183</td>\n",
       "      <td>0.4215</td>\n",
       "    </tr>\n",
       "    <tr>\n",
       "      <th>...</th>\n",
       "      <td>...</td>\n",
       "      <td>...</td>\n",
       "      <td>...</td>\n",
       "      <td>...</td>\n",
       "      <td>...</td>\n",
       "      <td>...</td>\n",
       "      <td>...</td>\n",
       "    </tr>\n",
       "    <tr>\n",
       "      <th>108139</th>\n",
       "      <td>1</td>\n",
       "      <td>english spanish realy</td>\n",
       "      <td>negative</td>\n",
       "      <td>0.000</td>\n",
       "      <td>1.000</td>\n",
       "      <td>0.000</td>\n",
       "      <td>0.0000</td>\n",
       "    </tr>\n",
       "    <tr>\n",
       "      <th>274620</th>\n",
       "      <td>1</td>\n",
       "      <td>purchased phone husband even week charging num...</td>\n",
       "      <td>negative</td>\n",
       "      <td>0.128</td>\n",
       "      <td>0.811</td>\n",
       "      <td>0.061</td>\n",
       "      <td>-0.3753</td>\n",
       "    </tr>\n",
       "    <tr>\n",
       "      <th>110670</th>\n",
       "      <td>1</td>\n",
       "      <td>phone worth money lack lte channel reception s...</td>\n",
       "      <td>negative</td>\n",
       "      <td>0.289</td>\n",
       "      <td>0.444</td>\n",
       "      <td>0.267</td>\n",
       "      <td>-0.1027</td>\n",
       "    </tr>\n",
       "    <tr>\n",
       "      <th>182157</th>\n",
       "      <td>1</td>\n",
       "      <td>personally like nokia lot people told nicether...</td>\n",
       "      <td>negative</td>\n",
       "      <td>0.144</td>\n",
       "      <td>0.671</td>\n",
       "      <td>0.185</td>\n",
       "      <td>0.1835</td>\n",
       "    </tr>\n",
       "    <tr>\n",
       "      <th>97260</th>\n",
       "      <td>2</td>\n",
       "      <td>phone stopped w orking month touch stopped wor...</td>\n",
       "      <td>negative</td>\n",
       "      <td>0.358</td>\n",
       "      <td>0.581</td>\n",
       "      <td>0.061</td>\n",
       "      <td>-0.8481</td>\n",
       "    </tr>\n",
       "  </tbody>\n",
       "</table>\n",
       "<p>60000 rows × 7 columns</p>\n",
       "</div>"
      ],
      "text/plain": [
       "        Rating                                            Reviews sentiment  \\\n",
       "0            5  feel lucky found used phone u used hard phone ...  positive   \n",
       "1            4  nice phone nice grade pantach revue clean set ...  positive   \n",
       "2            5                                            pleased  positive   \n",
       "3            4        work good go slow sometimes good phone love  positive   \n",
       "4            4  great phone replace lost phone thing volume bu...  positive   \n",
       "...        ...                                                ...       ...   \n",
       "108139       1                              english spanish realy  negative   \n",
       "274620       1  purchased phone husband even week charging num...  negative   \n",
       "110670       1  phone worth money lack lte channel reception s...  negative   \n",
       "182157       1  personally like nokia lot people told nicether...  negative   \n",
       "97260        2  phone stopped w orking month touch stopped wor...  negative   \n",
       "\n",
       "          neg    neu    pos  compound  \n",
       "0       0.100  0.592  0.308    0.8966  \n",
       "1       0.155  0.445  0.400    0.8548  \n",
       "2       0.000  0.000  1.000    0.4404  \n",
       "3       0.000  0.333  0.667    0.8750  \n",
       "4       0.103  0.714  0.183    0.4215  \n",
       "...       ...    ...    ...       ...  \n",
       "108139  0.000  1.000  0.000    0.0000  \n",
       "274620  0.128  0.811  0.061   -0.3753  \n",
       "110670  0.289  0.444  0.267   -0.1027  \n",
       "182157  0.144  0.671  0.185    0.1835  \n",
       "97260   0.358  0.581  0.061   -0.8481  \n",
       "\n",
       "[60000 rows x 7 columns]"
      ]
     },
     "execution_count": 6,
     "metadata": {},
     "output_type": "execute_result"
    }
   ],
   "source": [
    "df"
   ]
  },
  {
   "cell_type": "code",
   "execution_count": 7,
   "id": "0f40f045-0337-4652-98ff-4b5655f44d94",
   "metadata": {},
   "outputs": [],
   "source": [
    "# Tokenization and padding\n",
    "max_length = 100  # Adjust according to your data\n",
    "tokenizer = Tokenizer()\n",
    "tokenizer.fit_on_texts(df['Reviews'])\n",
    "X = tokenizer.texts_to_sequences(df['Reviews'])\n",
    "X = pad_sequences(X, maxlen=max_length)"
   ]
  },
  {
   "cell_type": "code",
   "execution_count": 8,
   "id": "8bdee874-c227-42e3-9bc8-4856a8d80b67",
   "metadata": {},
   "outputs": [],
   "source": [
    "label_encoder = LabelEncoder()\n",
    "y = label_encoder.fit_transform(df['sentiment'])\n"
   ]
  },
  {
   "cell_type": "code",
   "execution_count": 9,
   "id": "51a2f20e-efbb-4bf7-a2f7-41014f7a0a43",
   "metadata": {},
   "outputs": [],
   "source": [
    "# Convert labels to categorical\n",
    "num_classes = len(label_encoder.classes_)\n",
    "y = tf.keras.utils.to_categorical(y, num_classes=num_classes)\n"
   ]
  },
  {
   "cell_type": "code",
   "execution_count": 10,
   "id": "b2d98500-1be8-43b0-a338-afd271c9d8b7",
   "metadata": {},
   "outputs": [],
   "source": [
    "# Split data into train and validation sets\n",
    "X_train, X_val, y_train, y_val = train_test_split(X, y, test_size=0.2, random_state=42)"
   ]
  },
  {
   "cell_type": "code",
   "execution_count": 11,
   "id": "eb1cc356-85e1-4435-bc38-3cadb2c0e651",
   "metadata": {},
   "outputs": [],
   "source": [
    "# Define model parameters\n",
    "embedding_dim = 100  # Dimension of word embeddings\n",
    "vocab_size = len(tokenizer.word_index) + 1\n"
   ]
  },
  {
   "cell_type": "code",
   "execution_count": 12,
   "id": "70fed84e-c080-4719-bb68-f4db9cc40c15",
   "metadata": {},
   "outputs": [
    {
     "name": "stderr",
     "output_type": "stream",
     "text": [
      "C:\\Users\\MK Jutt\\anaconda3\\Lib\\site-packages\\keras\\src\\layers\\core\\embedding.py:90: UserWarning: Argument `input_length` is deprecated. Just remove it.\n",
      "  warnings.warn(\n"
     ]
    }
   ],
   "source": [
    "# Build LSTM model\n",
    "model = Sequential()\n",
    "model.add(Embedding(input_dim=vocab_size, output_dim=embedding_dim, input_length=max_length))\n",
    "model.add(SpatialDropout1D(0.2))  # Dropout layer to prevent overfitting\n",
    "model.add(Bidirectional(LSTM(128, return_sequences=True, dropout=0.2, recurrent_dropout=0.2)))\n",
    "model.add(Bidirectional(LSTM(64, dropout=0.2, recurrent_dropout=0.2)))\n",
    "model.add(Dense(64, activation='relu'))\n",
    "model.add(Dropout(0.5))\n",
    "model.add(Dense(num_classes, activation='softmax'))  # Output layer with softmax activation for multi-class classification"
   ]
  },
  {
   "cell_type": "code",
   "execution_count": 13,
   "id": "37e7ddc8-97a8-4152-86a5-6817a812a4cd",
   "metadata": {},
   "outputs": [],
   "source": [
    "\n",
    "# Early stopping callback\n",
    "early_stop = EarlyStopping(monitor='val_loss', mode='min', verbose=1, patience=2)"
   ]
  },
  {
   "cell_type": "code",
   "execution_count": 14,
   "id": "c98204cf-2786-4609-a0ff-6f361d071ba7",
   "metadata": {},
   "outputs": [],
   "source": [
    "# Compile the model\n",
    "model.compile(optimizer='adam', loss='categorical_crossentropy', metrics=['accuracy'])\n"
   ]
  },
  {
   "cell_type": "code",
   "execution_count": 15,
   "id": "a6ad7c80-723a-4dda-8d64-ab635ac10ee2",
   "metadata": {},
   "outputs": [
    {
     "name": "stdout",
     "output_type": "stream",
     "text": [
      "Epoch 1/10\n",
      "\u001b[1m375/375\u001b[0m \u001b[32m━━━━━━━━━━━━━━━━━━━━\u001b[0m\u001b[37m\u001b[0m \u001b[1m215s\u001b[0m 520ms/step - accuracy: 0.5620 - loss: 0.8530 - val_accuracy: 0.7707 - val_loss: 0.5543\n",
      "Epoch 2/10\n",
      "\u001b[1m375/375\u001b[0m \u001b[32m━━━━━━━━━━━━━━━━━━━━\u001b[0m\u001b[37m\u001b[0m \u001b[1m201s\u001b[0m 536ms/step - accuracy: 0.8002 - loss: 0.5158 - val_accuracy: 0.8061 - val_loss: 0.4921\n",
      "Epoch 3/10\n",
      "\u001b[1m375/375\u001b[0m \u001b[32m━━━━━━━━━━━━━━━━━━━━\u001b[0m\u001b[37m\u001b[0m \u001b[1m238s\u001b[0m 635ms/step - accuracy: 0.8486 - loss: 0.4106 - val_accuracy: 0.8180 - val_loss: 0.4731\n",
      "Epoch 4/10\n",
      "\u001b[1m375/375\u001b[0m \u001b[32m━━━━━━━━━━━━━━━━━━━━\u001b[0m\u001b[37m\u001b[0m \u001b[1m208s\u001b[0m 554ms/step - accuracy: 0.8738 - loss: 0.3499 - val_accuracy: 0.8288 - val_loss: 0.4720\n",
      "Epoch 5/10\n",
      "\u001b[1m375/375\u001b[0m \u001b[32m━━━━━━━━━━━━━━━━━━━━\u001b[0m\u001b[37m\u001b[0m \u001b[1m220s\u001b[0m 585ms/step - accuracy: 0.8902 - loss: 0.3075 - val_accuracy: 0.8372 - val_loss: 0.4489\n",
      "Epoch 6/10\n",
      "\u001b[1m375/375\u001b[0m \u001b[32m━━━━━━━━━━━━━━━━━━━━\u001b[0m\u001b[37m\u001b[0m \u001b[1m216s\u001b[0m 575ms/step - accuracy: 0.9031 - loss: 0.2743 - val_accuracy: 0.8431 - val_loss: 0.4816\n",
      "Epoch 7/10\n",
      "\u001b[1m375/375\u001b[0m \u001b[32m━━━━━━━━━━━━━━━━━━━━\u001b[0m\u001b[37m\u001b[0m \u001b[1m202s\u001b[0m 538ms/step - accuracy: 0.9101 - loss: 0.2507 - val_accuracy: 0.8463 - val_loss: 0.4780\n",
      "Epoch 7: early stopping\n"
     ]
    }
   ],
   "source": [
    "epochs = 10\n",
    "batch_size = 128\n",
    "\n",
    "history = model.fit(X_train, y_train, epochs=epochs, batch_size=batch_size, \n",
    "                    validation_data=(X_val, y_val), callbacks=[early_stop])"
   ]
  },
  {
   "cell_type": "code",
   "execution_count": 16,
   "id": "9368f237-c927-4624-adf7-e4f40e76fc25",
   "metadata": {},
   "outputs": [
    {
     "name": "stdout",
     "output_type": "stream",
     "text": [
      "\u001b[1m375/375\u001b[0m \u001b[32m━━━━━━━━━━━━━━━━━━━━\u001b[0m\u001b[37m\u001b[0m \u001b[1m24s\u001b[0m 64ms/step - accuracy: 0.8483 - loss: 0.4688\n",
      "Validation Loss: 0.4780\n",
      "Validation Accuracy: 0.8463\n"
     ]
    }
   ],
   "source": [
    "# Evaluate model\n",
    "loss, accuracy = model.evaluate(X_val, y_val)\n",
    "print(f'Validation Loss: {loss:.4f}')\n",
    "print(f'Validation Accuracy: {accuracy:.4f}')"
   ]
  },
  {
   "cell_type": "code",
   "execution_count": 17,
   "id": "830a4278-fd4b-47b4-8ef4-3f3c8e54b21c",
   "metadata": {},
   "outputs": [],
   "source": [
    "\n",
    "# Plot training history\n",
    "def plot_history(history):\n",
    "    plt.plot(history.history['accuracy'], label='accuracy')\n",
    "    plt.plot(history.history['val_accuracy'], label='val_accuracy')\n",
    "    plt.xlabel('Epoch')\n",
    "    plt.ylabel('Accuracy')\n",
    "    plt.legend()\n",
    "    plt.show()\n",
    "\n",
    "    plt.plot(history.history['loss'], label='loss')\n",
    "    plt.plot(history.history['val_loss'], label='val_loss')\n",
    "    plt.xlabel('Epoch')\n",
    "    plt.ylabel('Loss')\n",
    "    plt.legend()\n",
    "    plt.show()"
   ]
  },
  {
   "cell_type": "code",
   "execution_count": 18,
   "id": "7ac7be93-dfd5-41d4-82d7-5071185a1564",
   "metadata": {},
   "outputs": [
    {
     "data": {
      "image/png": "[encoded data removed]",
      "text/plain": [
       "<Figure size 640x480 with 1 Axes>"
      ]
     },
     "metadata": {},
     "output_type": "display_data"
    },
    {
     "data": {
      "image/png": "[encoded data removed]",
      "text/plain": [
       "<Figure size 640x480 with 1 Axes>"
      ]
     },
     "metadata": {},
     "output_type": "display_data"
    }
   ],
   "source": [
    "# Plot accuracy and loss\n",
    "plot_history(history)"
   ]
  },
  {
   "cell_type": "code",
   "execution_count": 19,
   "id": "60e00a59-645d-481d-8523-03b74fa102b5",
   "metadata": {},
   "outputs": [
    {
     "name": "stdout",
     "output_type": "stream",
     "text": [
      "Model saved to LSTM_model.joblib\n"
     ]
    }
   ],
   "source": [
    "import joblib\n",
    "# Save the best model to a file\n",
    "joblib_file = \"LSTM_model.joblib\"\n",
    "joblib.dump(model, joblib_file)\n",
    "print(f\"Model saved to {joblib_file}\")"
   ]
  },
  {
   "cell_type": "code",
   "execution_count": 20,
   "id": "5d1ce512-fe44-4af3-b86b-b9e40e602594",
   "metadata": {},
   "outputs": [
    {
     "name": "stdout",
     "output_type": "stream",
     "text": [
      "Model loaded successfully\n"
     ]
    }
   ],
   "source": [
    "# Load the model from the file\n",
    "loaded_model = joblib.load(\"LSTM_model.joblib\")\n",
    "print(\"Model loaded successfully\")"
   ]
  },
  {
   "cell_type": "code",
   "execution_count": 21,
   "id": "c66a2a11-958d-4496-beb5-522764129834",
   "metadata": {},
   "outputs": [
    {
     "name": "stdout",
     "output_type": "stream",
     "text": [
      "\u001b[1m1/1\u001b[0m \u001b[32m━━━━━━━━━━━━━━━━━━━━\u001b[0m\u001b[37m\u001b[0m \u001b[1m1s\u001b[0m 850ms/step\n"
     ]
    }
   ],
   "source": [
    "# Example of making predictions\n",
    "new_reviews = [\"My phone not working welll\", \"I appreciate that company to providing good product.\"]\n",
    "sequences = tokenizer.texts_to_sequences(new_reviews)\n",
    "padded_sequences = pad_sequences(sequences, maxlen=max_length)\n",
    "predictions = loaded_model.predict(padded_sequences)"
   ]
  },
  {
   "cell_type": "code",
   "execution_count": 22,
   "id": "dd543fb8-add4-4c65-a72e-dd3c0e12d9f7",
   "metadata": {},
   "outputs": [],
   "source": [
    "# Decode predictions\n",
    "predicted_labels = label_encoder.inverse_transform([np.argmax(pred) for pred in predictions])"
   ]
  },
  {
   "cell_type": "code",
   "execution_count": 23,
   "id": "6e6b4d87-bec0-43fa-86c2-e665a3367952",
   "metadata": {},
   "outputs": [
    {
     "name": "stdout",
     "output_type": "stream",
     "text": [
      "Review: My phone not working welll | Predicted Sentiment: negative | Confidence: 0.6751\n",
      "Review: I appreciate that company to providing good product. | Predicted Sentiment: positive | Confidence: 0.9456\n"
     ]
    }
   ],
   "source": [
    "for review, predicted_label, prediction in zip(new_reviews, predicted_labels, predictions):\n",
    "    sentiment = predicted_label\n",
    "    confidence = prediction[np.argmax(prediction)]\n",
    "    print(f'Review: {review} | Predicted Sentiment: {sentiment} | Confidence: {confidence:.4f}')"
   ]
  },
  {
   "cell_type": "code",
   "execution_count": null,
   "id": "e85ada31-d204-4d5a-a074-bfac8f790018",
   "metadata": {},
   "outputs": [],
   "source": []
  },
  {
   "cell_type": "code",
   "execution_count": null,
   "id": "b92c7b4e-3cb2-4d09-be7d-261422beda6a",
   "metadata": {},
   "outputs": [],
   "source": []
  },
  {
   "cell_type": "code",
   "execution_count": null,
   "id": "db0e04d3-b4ac-494a-b013-ca57c1ccabf5",
   "metadata": {},
   "outputs": [],
   "source": []
  }
 ],
 "metadata": {
  "kernelspec": {
   "display_name": "Python 3 (ipykernel)",
   "language": "python",
   "name": "python3"
  },
  "language_info": {
   "codemirror_mode": {
    "name": "ipython",
    "version": 3
   },
   "file_extension": ".py",
   "mimetype": "text/x-python",
   "name": "python",
   "nbconvert_exporter": "python",
   "pygments_lexer": "ipython3",
   "version": "3.11.7"
  }
 },
 "nbformat": 4,
 "nbformat_minor": 5
}
