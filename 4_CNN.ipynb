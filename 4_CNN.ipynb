{
 "cells": [
  {
   "cell_type": "markdown",
   "id": "12fb2424-ba7f-468f-8dd9-c9955ea39a14",
   "metadata": {},
   "source": [
    "# Sentiment Analysis Using Pre_trained Model"
   ]
  },
  {
   "cell_type": "code",
   "execution_count": 2,
   "id": "c1e463ce-0f1a-41cf-a42f-69dcac5aa6e0",
   "metadata": {},
   "outputs": [],
   "source": [
    "from tensorflow.keras.models import Sequential\n",
    "from tensorflow.keras.layers import Embedding, Conv1D, GlobalMaxPooling1D, Dense, Dropout\n",
    "from tensorflow.keras.optimizers import Adam\n",
    "from tensorflow.keras.callbacks import EarlyStopping\n",
    "from sklearn.preprocessing import LabelEncoder\n",
    "from sklearn.model_selection import train_test_split\n",
    "import pandas as pd\n",
    "import tensorflow as tf\n",
    "import numpy as np\n",
    "from tensorflow.keras.preprocessing.text import Tokenizer\n",
    "from tensorflow.keras.preprocessing.sequence import pad_sequences"
   ]
  },
  {
   "cell_type": "code",
   "execution_count": 2,
   "id": "a868f881-e821-482d-ad91-efddfa91badb",
   "metadata": {},
   "outputs": [
    {
     "data": {
      "text/html": [
       "<div>\n",
       "<style scoped>\n",
       "    .dataframe tbody tr th:only-of-type {\n",
       "        vertical-align: middle;\n",
       "    }\n",
       "\n",
       "    .dataframe tbody tr th {\n",
       "        vertical-align: top;\n",
       "    }\n",
       "\n",
       "    .dataframe thead th {\n",
       "        text-align: right;\n",
       "    }\n",
       "</style>\n",
       "<table border=\"1\" class=\"dataframe\">\n",
       "  <thead>\n",
       "    <tr style=\"text-align: right;\">\n",
       "      <th></th>\n",
       "      <th>Product Name</th>\n",
       "      <th>Brand Name</th>\n",
       "      <th>Price</th>\n",
       "      <th>Rating</th>\n",
       "      <th>Reviews</th>\n",
       "      <th>Review Votes</th>\n",
       "      <th>sentiment</th>\n",
       "      <th>neg</th>\n",
       "      <th>neu</th>\n",
       "      <th>pos</th>\n",
       "      <th>compound</th>\n",
       "    </tr>\n",
       "  </thead>\n",
       "  <tbody>\n",
       "    <tr>\n",
       "      <th>0</th>\n",
       "      <td>\"CLEAR CLEAN ESN\" Sprint EPIC 4G Galaxy SPH-D7...</td>\n",
       "      <td>samsung</td>\n",
       "      <td>199.99</td>\n",
       "      <td>5</td>\n",
       "      <td>feel lucky found used phone u used hard phone ...</td>\n",
       "      <td>1.0</td>\n",
       "      <td>positive</td>\n",
       "      <td>0.100</td>\n",
       "      <td>0.592</td>\n",
       "      <td>0.308</td>\n",
       "      <td>0.8966</td>\n",
       "    </tr>\n",
       "    <tr>\n",
       "      <th>1</th>\n",
       "      <td>\"CLEAR CLEAN ESN\" Sprint EPIC 4G Galaxy SPH-D7...</td>\n",
       "      <td>samsung</td>\n",
       "      <td>199.99</td>\n",
       "      <td>4</td>\n",
       "      <td>nice phone nice grade pantach revue clean set ...</td>\n",
       "      <td>0.0</td>\n",
       "      <td>positive</td>\n",
       "      <td>0.155</td>\n",
       "      <td>0.445</td>\n",
       "      <td>0.400</td>\n",
       "      <td>0.8548</td>\n",
       "    </tr>\n",
       "    <tr>\n",
       "      <th>2</th>\n",
       "      <td>\"CLEAR CLEAN ESN\" Sprint EPIC 4G Galaxy SPH-D7...</td>\n",
       "      <td>samsung</td>\n",
       "      <td>199.99</td>\n",
       "      <td>5</td>\n",
       "      <td>pleased</td>\n",
       "      <td>0.0</td>\n",
       "      <td>positive</td>\n",
       "      <td>0.000</td>\n",
       "      <td>0.000</td>\n",
       "      <td>1.000</td>\n",
       "      <td>0.4404</td>\n",
       "    </tr>\n",
       "    <tr>\n",
       "      <th>3</th>\n",
       "      <td>\"CLEAR CLEAN ESN\" Sprint EPIC 4G Galaxy SPH-D7...</td>\n",
       "      <td>samsung</td>\n",
       "      <td>199.99</td>\n",
       "      <td>4</td>\n",
       "      <td>work good go slow sometimes good phone love</td>\n",
       "      <td>0.0</td>\n",
       "      <td>positive</td>\n",
       "      <td>0.000</td>\n",
       "      <td>0.333</td>\n",
       "      <td>0.667</td>\n",
       "      <td>0.8750</td>\n",
       "    </tr>\n",
       "    <tr>\n",
       "      <th>4</th>\n",
       "      <td>\"CLEAR CLEAN ESN\" Sprint EPIC 4G Galaxy SPH-D7...</td>\n",
       "      <td>samsung</td>\n",
       "      <td>199.99</td>\n",
       "      <td>4</td>\n",
       "      <td>great phone replace lost phone thing volume bu...</td>\n",
       "      <td>0.0</td>\n",
       "      <td>positive</td>\n",
       "      <td>0.103</td>\n",
       "      <td>0.714</td>\n",
       "      <td>0.183</td>\n",
       "      <td>0.4215</td>\n",
       "    </tr>\n",
       "  </tbody>\n",
       "</table>\n",
       "</div>"
      ],
      "text/plain": [
       "                                        Product Name Brand Name   Price  \\\n",
       "0  \"CLEAR CLEAN ESN\" Sprint EPIC 4G Galaxy SPH-D7...    samsung  199.99   \n",
       "1  \"CLEAR CLEAN ESN\" Sprint EPIC 4G Galaxy SPH-D7...    samsung  199.99   \n",
       "2  \"CLEAR CLEAN ESN\" Sprint EPIC 4G Galaxy SPH-D7...    samsung  199.99   \n",
       "3  \"CLEAR CLEAN ESN\" Sprint EPIC 4G Galaxy SPH-D7...    samsung  199.99   \n",
       "4  \"CLEAR CLEAN ESN\" Sprint EPIC 4G Galaxy SPH-D7...    samsung  199.99   \n",
       "\n",
       "   Rating                                            Reviews  Review Votes  \\\n",
       "0       5  feel lucky found used phone u used hard phone ...           1.0   \n",
       "1       4  nice phone nice grade pantach revue clean set ...           0.0   \n",
       "2       5                                            pleased           0.0   \n",
       "3       4        work good go slow sometimes good phone love           0.0   \n",
       "4       4  great phone replace lost phone thing volume bu...           0.0   \n",
       "\n",
       "  sentiment    neg    neu    pos  compound  \n",
       "0  positive  0.100  0.592  0.308    0.8966  \n",
       "1  positive  0.155  0.445  0.400    0.8548  \n",
       "2  positive  0.000  0.000  1.000    0.4404  \n",
       "3  positive  0.000  0.333  0.667    0.8750  \n",
       "4  positive  0.103  0.714  0.183    0.4215  "
      ]
     },
     "execution_count": 2,
     "metadata": {},
     "output_type": "execute_result"
    }
   ],
   "source": [
    "df = pd.read_csv('Preprocess_Reviews.csv')\n",
    "df.head()"
   ]
  },
  {
   "cell_type": "code",
   "execution_count": 3,
   "id": "bf9c079c-7172-414a-a9ca-addd62f8e9dd",
   "metadata": {},
   "outputs": [],
   "source": [
    "#Drop unnecessary columns:\n",
    "df = df.drop(['Product Name', 'Price', 'Review Votes', 'Brand Name'], axis=1)\n",
    "df.dropna(inplace=True)"
   ]
  },
  {
   "cell_type": "code",
   "execution_count": 4,
   "id": "2294b813-b130-4aa8-8a86-89e37e1270cc",
   "metadata": {},
   "outputs": [],
   "source": [
    "df_Positive = df[df['sentiment'] == 'positive'][0:20000]\n",
    "df_Neutral = df[df['sentiment'] == 'neutral']\n",
    "df_Negative = df[df['sentiment'] == 'negative']"
   ]
  },
  {
   "cell_type": "code",
   "execution_count": 5,
   "id": "11273a35-21c8-4746-855d-90c22cefabfe",
   "metadata": {},
   "outputs": [],
   "source": [
    "df_Neutral_over = df_Neutral.sample(20000, replace=True)\n",
    "df_Negative_over = df_Negative.sample(20000, replace=True)\n",
    "df = pd.concat([df_Positive, df_Neutral_over, df_Negative_over], axis=0)"
   ]
  },
  {
   "cell_type": "code",
   "execution_count": 6,
   "id": "132f728d-7b03-4662-a1cb-aaf3e00944b0",
   "metadata": {},
   "outputs": [
    {
     "data": {
      "text/html": [
       "<div>\n",
       "<style scoped>\n",
       "    .dataframe tbody tr th:only-of-type {\n",
       "        vertical-align: middle;\n",
       "    }\n",
       "\n",
       "    .dataframe tbody tr th {\n",
       "        vertical-align: top;\n",
       "    }\n",
       "\n",
       "    .dataframe thead th {\n",
       "        text-align: right;\n",
       "    }\n",
       "</style>\n",
       "<table border=\"1\" class=\"dataframe\">\n",
       "  <thead>\n",
       "    <tr style=\"text-align: right;\">\n",
       "      <th></th>\n",
       "      <th>Rating</th>\n",
       "      <th>Reviews</th>\n",
       "      <th>sentiment</th>\n",
       "      <th>neg</th>\n",
       "      <th>neu</th>\n",
       "      <th>pos</th>\n",
       "      <th>compound</th>\n",
       "    </tr>\n",
       "  </thead>\n",
       "  <tbody>\n",
       "    <tr>\n",
       "      <th>0</th>\n",
       "      <td>5</td>\n",
       "      <td>feel lucky found used phone u used hard phone ...</td>\n",
       "      <td>positive</td>\n",
       "      <td>0.100</td>\n",
       "      <td>0.592</td>\n",
       "      <td>0.308</td>\n",
       "      <td>0.8966</td>\n",
       "    </tr>\n",
       "    <tr>\n",
       "      <th>1</th>\n",
       "      <td>4</td>\n",
       "      <td>nice phone nice grade pantach revue clean set ...</td>\n",
       "      <td>positive</td>\n",
       "      <td>0.155</td>\n",
       "      <td>0.445</td>\n",
       "      <td>0.400</td>\n",
       "      <td>0.8548</td>\n",
       "    </tr>\n",
       "    <tr>\n",
       "      <th>2</th>\n",
       "      <td>5</td>\n",
       "      <td>pleased</td>\n",
       "      <td>positive</td>\n",
       "      <td>0.000</td>\n",
       "      <td>0.000</td>\n",
       "      <td>1.000</td>\n",
       "      <td>0.4404</td>\n",
       "    </tr>\n",
       "    <tr>\n",
       "      <th>3</th>\n",
       "      <td>4</td>\n",
       "      <td>work good go slow sometimes good phone love</td>\n",
       "      <td>positive</td>\n",
       "      <td>0.000</td>\n",
       "      <td>0.333</td>\n",
       "      <td>0.667</td>\n",
       "      <td>0.8750</td>\n",
       "    </tr>\n",
       "    <tr>\n",
       "      <th>4</th>\n",
       "      <td>4</td>\n",
       "      <td>great phone replace lost phone thing volume bu...</td>\n",
       "      <td>positive</td>\n",
       "      <td>0.103</td>\n",
       "      <td>0.714</td>\n",
       "      <td>0.183</td>\n",
       "      <td>0.4215</td>\n",
       "    </tr>\n",
       "    <tr>\n",
       "      <th>...</th>\n",
       "      <td>...</td>\n",
       "      <td>...</td>\n",
       "      <td>...</td>\n",
       "      <td>...</td>\n",
       "      <td>...</td>\n",
       "      <td>...</td>\n",
       "      <td>...</td>\n",
       "    </tr>\n",
       "    <tr>\n",
       "      <th>207356</th>\n",
       "      <td>2</td>\n",
       "      <td>sound horrible call barely hear person end blu...</td>\n",
       "      <td>negative</td>\n",
       "      <td>0.189</td>\n",
       "      <td>0.811</td>\n",
       "      <td>0.000</td>\n",
       "      <td>-0.5423</td>\n",
       "    </tr>\n",
       "    <tr>\n",
       "      <th>115329</th>\n",
       "      <td>1</td>\n",
       "      <td>minimal useful feature half apps watch non fun...</td>\n",
       "      <td>negative</td>\n",
       "      <td>0.025</td>\n",
       "      <td>0.803</td>\n",
       "      <td>0.173</td>\n",
       "      <td>0.9397</td>\n",
       "    </tr>\n",
       "    <tr>\n",
       "      <th>198314</th>\n",
       "      <td>1</td>\n",
       "      <td>already broke</td>\n",
       "      <td>negative</td>\n",
       "      <td>0.737</td>\n",
       "      <td>0.263</td>\n",
       "      <td>0.000</td>\n",
       "      <td>-0.4215</td>\n",
       "    </tr>\n",
       "    <tr>\n",
       "      <th>255715</th>\n",
       "      <td>1</td>\n",
       "      <td>mywit fails tell website description phone loc...</td>\n",
       "      <td>negative</td>\n",
       "      <td>0.128</td>\n",
       "      <td>0.735</td>\n",
       "      <td>0.137</td>\n",
       "      <td>-0.1531</td>\n",
       "    </tr>\n",
       "    <tr>\n",
       "      <th>121556</th>\n",
       "      <td>1</td>\n",
       "      <td>screen big enough barely hear</td>\n",
       "      <td>negative</td>\n",
       "      <td>0.000</td>\n",
       "      <td>1.000</td>\n",
       "      <td>0.000</td>\n",
       "      <td>0.0000</td>\n",
       "    </tr>\n",
       "  </tbody>\n",
       "</table>\n",
       "<p>60000 rows × 7 columns</p>\n",
       "</div>"
      ],
      "text/plain": [
       "        Rating                                            Reviews sentiment  \\\n",
       "0            5  feel lucky found used phone u used hard phone ...  positive   \n",
       "1            4  nice phone nice grade pantach revue clean set ...  positive   \n",
       "2            5                                            pleased  positive   \n",
       "3            4        work good go slow sometimes good phone love  positive   \n",
       "4            4  great phone replace lost phone thing volume bu...  positive   \n",
       "...        ...                                                ...       ...   \n",
       "207356       2  sound horrible call barely hear person end blu...  negative   \n",
       "115329       1  minimal useful feature half apps watch non fun...  negative   \n",
       "198314       1                                      already broke  negative   \n",
       "255715       1  mywit fails tell website description phone loc...  negative   \n",
       "121556       1                      screen big enough barely hear  negative   \n",
       "\n",
       "          neg    neu    pos  compound  \n",
       "0       0.100  0.592  0.308    0.8966  \n",
       "1       0.155  0.445  0.400    0.8548  \n",
       "2       0.000  0.000  1.000    0.4404  \n",
       "3       0.000  0.333  0.667    0.8750  \n",
       "4       0.103  0.714  0.183    0.4215  \n",
       "...       ...    ...    ...       ...  \n",
       "207356  0.189  0.811  0.000   -0.5423  \n",
       "115329  0.025  0.803  0.173    0.9397  \n",
       "198314  0.737  0.263  0.000   -0.4215  \n",
       "255715  0.128  0.735  0.137   -0.1531  \n",
       "121556  0.000  1.000  0.000    0.0000  \n",
       "\n",
       "[60000 rows x 7 columns]"
      ]
     },
     "execution_count": 6,
     "metadata": {},
     "output_type": "execute_result"
    }
   ],
   "source": [
    "df"
   ]
  },
  {
   "cell_type": "code",
   "execution_count": 7,
   "id": "560c9a3e-b84f-4260-8fec-06da984f5da7",
   "metadata": {},
   "outputs": [],
   "source": [
    "# Tokenization and padding (example only, adjust based on your actual preprocessing steps)\n",
    "max_length = 100\n",
    "tokenizer = Tokenizer()\n",
    "tokenizer.fit_on_texts(df['Reviews'])\n",
    "X = tokenizer.texts_to_sequences(df['Reviews'])\n",
    "X = pad_sequences(X, maxlen=max_length)  # Adjust max_length according to your data\n"
   ]
  },
  {
   "cell_type": "code",
   "execution_count": 8,
   "id": "37cd7e62-faed-483a-88cd-25815a5a9257",
   "metadata": {},
   "outputs": [],
   "source": [
    "label_encoder = LabelEncoder()\n",
    "y = label_encoder.fit_transform(df['sentiment'])"
   ]
  },
  {
   "cell_type": "code",
   "execution_count": 9,
   "id": "be9ef86e-01e0-4d29-aa75-efcf5f4ca16e",
   "metadata": {},
   "outputs": [],
   "source": [
    "# Convert labels to categorical\n",
    "y = tf.keras.utils.to_categorical(y, num_classes=3)  # Adjust num_classes according to your number of classes\n"
   ]
  },
  {
   "cell_type": "code",
   "execution_count": 10,
   "id": "97d5f85e-3a0c-42ce-b729-750801d33b26",
   "metadata": {},
   "outputs": [],
   "source": [
    "# Split data into train and validation sets\n",
    "X_train, X_val, y_train, y_val = train_test_split(X, y, test_size=0.2, random_state=42)\n"
   ]
  },
  {
   "cell_type": "code",
   "execution_count": 11,
   "id": "fdf641a8-fbef-4fd8-af15-4474edb19e53",
   "metadata": {},
   "outputs": [],
   "source": [
    "# Define model parameters\n",
    "vocab_size = len(tokenizer.word_index) + 1\n",
    "embedding_dim = 100\n",
    "max_length = 100  # Adjust according to your data\n"
   ]
  },
  {
   "cell_type": "code",
   "execution_count": 12,
   "id": "6fe92a90-4424-4096-a262-cc973034b32a",
   "metadata": {},
   "outputs": [
    {
     "name": "stderr",
     "output_type": "stream",
     "text": [
      "C:\\Users\\MK Jutt\\anaconda3\\Lib\\site-packages\\keras\\src\\layers\\core\\embedding.py:90: UserWarning: Argument `input_length` is deprecated. Just remove it.\n",
      "  warnings.warn(\n"
     ]
    }
   ],
   "source": [
    "# CNN Model construction\n",
    "model = Sequential()\n",
    "model.add(Embedding(input_dim=vocab_size, output_dim=embedding_dim, input_length=max_length))\n",
    "model.add(Conv1D(filters=128, kernel_size=5, activation='relu'))\n",
    "model.add(GlobalMaxPooling1D())\n",
    "model.add(Dense(units=128, activation='relu'))\n",
    "model.add(Dropout(0.5))\n",
    "model.add(Dense(units=64, activation='relu'))\n",
    "model.add(Dropout(0.5))\n",
    "model.add(Dense(units=3, activation='softmax'))"
   ]
  },
  {
   "cell_type": "code",
   "execution_count": 13,
   "id": "34a37ff1-5ea8-443d-ae97-62e1057f41d3",
   "metadata": {},
   "outputs": [],
   "source": [
    "# Compile the CNN model\n",
    "opt = Adam(learning_rate=0.001)\n",
    "model.compile(loss='categorical_crossentropy', optimizer=opt, metrics=['accuracy'])"
   ]
  },
  {
   "cell_type": "code",
   "execution_count": 14,
   "id": "48f86d2a-2bd6-4c53-8d00-f2b7a9e99030",
   "metadata": {},
   "outputs": [],
   "source": [
    "# Early stopping callback\n",
    "early_stop = EarlyStopping(monitor='val_loss', mode='min', verbose=1, patience=2)"
   ]
  },
  {
   "cell_type": "code",
   "execution_count": 15,
   "id": "33bbc1bb-6865-4666-8f53-f8a99be6a5c3",
   "metadata": {},
   "outputs": [],
   "source": [
    "# Model training\n",
    "epochs = 10\n",
    "batch_size = 128"
   ]
  },
  {
   "cell_type": "code",
   "execution_count": 16,
   "id": "0ebafaa5-873e-4741-8b8e-408584f7a1e5",
   "metadata": {},
   "outputs": [
    {
     "name": "stdout",
     "output_type": "stream",
     "text": [
      "Epoch 1/10\n",
      "\u001b[1m375/375\u001b[0m \u001b[32m━━━━━━━━━━━━━━━━━━━━\u001b[0m\u001b[37m\u001b[0m \u001b[1m39s\u001b[0m 88ms/step - accuracy: 0.5497 - loss: 0.8709 - val_accuracy: 0.7961 - val_loss: 0.5070\n",
      "Epoch 2/10\n",
      "\u001b[1m375/375\u001b[0m \u001b[32m━━━━━━━━━━━━━━━━━━━━\u001b[0m\u001b[37m\u001b[0m \u001b[1m32s\u001b[0m 86ms/step - accuracy: 0.8403 - loss: 0.4374 - val_accuracy: 0.8523 - val_loss: 0.3930\n",
      "Epoch 3/10\n",
      "\u001b[1m375/375\u001b[0m \u001b[32m━━━━━━━━━━━━━━━━━━━━\u001b[0m\u001b[37m\u001b[0m \u001b[1m33s\u001b[0m 87ms/step - accuracy: 0.9200 - loss: 0.2385 - val_accuracy: 0.8686 - val_loss: 0.3842\n",
      "Epoch 4/10\n",
      "\u001b[1m375/375\u001b[0m \u001b[32m━━━━━━━━━━━━━━━━━━━━\u001b[0m\u001b[37m\u001b[0m \u001b[1m32s\u001b[0m 86ms/step - accuracy: 0.9537 - loss: 0.1449 - val_accuracy: 0.8720 - val_loss: 0.4307\n",
      "Epoch 5/10\n",
      "\u001b[1m375/375\u001b[0m \u001b[32m━━━━━━━━━━━━━━━━━━━━\u001b[0m\u001b[37m\u001b[0m \u001b[1m33s\u001b[0m 89ms/step - accuracy: 0.9643 - loss: 0.1075 - val_accuracy: 0.8727 - val_loss: 0.4873\n",
      "Epoch 5: early stopping\n"
     ]
    }
   ],
   "source": [
    "history = model.fit(X_train, y_train, epochs=epochs, batch_size=batch_size, \n",
    "                    validation_data=(X_val, y_val), callbacks=[early_stop])"
   ]
  },
  {
   "cell_type": "code",
   "execution_count": 17,
   "id": "61f24312-b8d5-407a-b71f-5c9fe66c2cbf",
   "metadata": {},
   "outputs": [
    {
     "name": "stdout",
     "output_type": "stream",
     "text": [
      "\u001b[1m375/375\u001b[0m \u001b[32m━━━━━━━━━━━━━━━━━━━━\u001b[0m\u001b[37m\u001b[0m \u001b[1m4s\u001b[0m 11ms/step - accuracy: 0.8738 - loss: 0.4831\n",
      "Validation Loss: 0.4873\n",
      "Validation Accuracy: 0.8727\n"
     ]
    }
   ],
   "source": [
    "# Evaluate model\n",
    "loss, accuracy = model.evaluate(X_val, y_val)\n",
    "print(f'Validation Loss: {loss:.4f}')\n",
    "print(f'Validation Accuracy: {accuracy:.4f}')"
   ]
  },
  {
   "cell_type": "code",
   "execution_count": 18,
   "id": "bf74d56e-43cb-4700-b358-d13a2bb02084",
   "metadata": {},
   "outputs": [],
   "source": [
    "import matplotlib.pyplot as plt\n",
    "\n",
    "# Plot training history\n",
    "def plot_history(history):\n",
    "    plt.plot(history.history['accuracy'], label='accuracy')\n",
    "    plt.plot(history.history['val_accuracy'], label='val_accuracy')\n",
    "    plt.xlabel('Epoch')\n",
    "    plt.ylabel('Accuracy')\n",
    "    plt.legend()\n",
    "    plt.show()\n",
    "\n",
    "    plt.plot(history.history['loss'], label='loss')\n",
    "    plt.plot(history.history['val_loss'], label='val_loss')\n",
    "    plt.xlabel('Epoch')\n",
    "    plt.ylabel('Loss')\n",
    "    plt.legend()\n",
    "    plt.show()"
   ]
  },
  {
   "cell_type": "code",
   "execution_count": 19,
   "id": "2d6fa71b-92e0-42bf-a730-8ea2c1f5157b",
   "metadata": {},
   "outputs": [
    {
     "data": {
      "image/png": "[encoded data removed]",
      "text/plain": [
       "<Figure size 640x480 with 1 Axes>"
      ]
     },
     "metadata": {},
     "output_type": "display_data"
    },
    {
     "data": {
      "image/png": "[encoded data removed]",
      "text/plain": [
       "<Figure size 640x480 with 1 Axes>"
      ]
     },
     "metadata": {},
     "output_type": "display_data"
    }
   ],
   "source": [
    "# Plot accuracy and loss\n",
    "plot_history(history)"
   ]
  },
  {
   "cell_type": "code",
   "execution_count": 34,
   "id": "707e1883-7ba0-4f47-a815-7f8f3e73fda3",
   "metadata": {},
   "outputs": [
    {
     "name": "stdout",
     "output_type": "stream",
     "text": [
      "Model saved to CNN_model.joblib\n"
     ]
    }
   ],
   "source": [
    "import joblib\n",
    "# Save the best model to a file\n",
    "joblib_file = \"CNN_model.joblib\"\n",
    "joblib.dump(model, joblib_file)\n",
    "print(f\"Model saved to {joblib_file}\")"
   ]
  },
  {
   "cell_type": "code",
   "execution_count": 35,
   "id": "a2d9ac89-bc77-4b59-91bd-0956f6777fe2",
   "metadata": {},
   "outputs": [
    {
     "name": "stdout",
     "output_type": "stream",
     "text": [
      "Model loaded successfully\n"
     ]
    }
   ],
   "source": [
    "# Load the model from the file\n",
    "loaded_model = joblib.load(\"CNN_model.joblib\")\n",
    "print(\"Model loaded successfully\")"
   ]
  },
  {
   "cell_type": "code",
   "execution_count": 39,
   "id": "e9ae2d8a-7ef9-47f6-bea4-74ec8f7c29ff",
   "metadata": {},
   "outputs": [
    {
     "name": "stdout",
     "output_type": "stream",
     "text": [
      "\u001b[1m1/1\u001b[0m \u001b[32m━━━━━━━━━━━━━━━━━━━━\u001b[0m\u001b[37m\u001b[0m \u001b[1m0s\u001b[0m 271ms/step\n"
     ]
    }
   ],
   "source": [
    "# Example of making predictions\n",
    "new_reviews = [\"it seems to be a damaged!\", \"I appreciate that company to providing good product.\"]\n",
    "sequences = tokenizer.texts_to_sequences(new_reviews)\n",
    "padded_sequences = pad_sequences(sequences, maxlen=max_length)\n",
    "predictions = loaded_model.predict(padded_sequences)"
   ]
  },
  {
   "cell_type": "code",
   "execution_count": 40,
   "id": "4b38d3c0-f172-48c3-a335-bf15e6402f95",
   "metadata": {},
   "outputs": [],
   "source": [
    "# Decode predictions\n",
    "predicted_labels = label_encoder.inverse_transform([np.argmax(pred) for pred in predictions])\n"
   ]
  },
  {
   "cell_type": "code",
   "execution_count": 7,
   "id": "2b611112-56cf-416f-9e54-e1e80111a172",
   "metadata": {},
   "outputs": [
    {
     "name": "stdout",
     "output_type": "stream",
     "text": [
      "Review: it seems to be a damaged! | Predicted Sentiment: neutral | Confidence: 0.5261\n",
      "Review: I appreciate that company to providing good product. | Predicted Sentiment: negative | Confidence: 0.6567\n"
     ]
    }
   ],
   "source": [
    "for review, predicted_label, prediction in zip(new_reviews, predicted_labels, predictions):\n",
    "    sentiment = predicted_label\n",
    "    confidence = prediction[np.argmax(prediction)]\n",
    "    print(f'Review: {review} | Predicted Sentiment: {sentiment} | Confidence: {confidence:.4f}')"
   ]
  },
  {
   "cell_type": "code",
   "execution_count": null,
   "id": "950ec3e2-59ae-4600-bc59-1d0347c834ad",
   "metadata": {},
   "outputs": [],
   "source": []
  }
 ],
 "metadata": {
  "kernelspec": {
   "display_name": "Python 3 (ipykernel)",
   "language": "python",
   "name": "python3"
  },
  "language_info": {
   "codemirror_mode": {
    "name": "ipython",
    "version": 3
   },
   "file_extension": ".py",
   "mimetype": "text/x-python",
   "name": "python",
   "nbconvert_exporter": "python",
   "pygments_lexer": "ipython3",
   "version": "3.11.7"
  }
 },
 "nbformat": 4,
 "nbformat_minor": 5
}
