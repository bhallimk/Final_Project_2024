{
 "cells": [
  {
   "cell_type": "code",
   "execution_count": 17,
   "id": "4f89eec5-9209-44d0-8270-b5d12347a1c5",
   "metadata": {},
   "outputs": [],
   "source": [
    "import pandas as pd\n",
    "from sklearn.model_selection import train_test_split\n",
    "from sklearn.feature_extraction.text import TfidfVectorizer\n",
    "from sklearn.linear_model import LogisticRegression\n",
    "from sklearn.metrics import accuracy_score, classification_report\n",
    "from sklearn.model_selection import GridSearchCV\n",
    "from sklearn.preprocessing import LabelEncoder"
   ]
  },
  {
   "cell_type": "code",
   "execution_count": 18,
   "id": "8a7b60de-8e43-44f9-a2d3-1454bc84a716",
   "metadata": {},
   "outputs": [],
   "source": [
    "# Load the dataset\n",
    "df = pd.read_csv(\"Preprocess_Reviews.csv\")"
   ]
  },
  {
   "cell_type": "code",
   "execution_count": 19,
   "id": "edf89db3-41cb-4467-9f77-9638ba47d7d8",
   "metadata": {},
   "outputs": [],
   "source": [
    "# Handle missing values\n",
    "df.dropna(inplace=True)"
   ]
  },
  {
   "cell_type": "code",
   "execution_count": 20,
   "id": "eab70264-4689-43c5-8fbf-a94b4312a0bd",
   "metadata": {},
   "outputs": [],
   "source": [
    "# Encode the sentiment labels to numerical values\n",
    "label_encoder = LabelEncoder()\n",
    "df['sentiment'] = label_encoder.fit_transform(df['sentiment'])"
   ]
  },
  {
   "cell_type": "code",
   "execution_count": 21,
   "id": "57d0b1df-d500-4ab2-a5f1-d34c09725fcc",
   "metadata": {},
   "outputs": [],
   "source": [
    "# Split dataset into training and testing sets\n",
    "X_train, X_test, y_train, y_test = train_test_split(df['Reviews'], df['sentiment'], test_size=0.2, random_state=42)"
   ]
  },
  {
   "cell_type": "code",
   "execution_count": 22,
   "id": "8e373e74-bd1e-4c9d-8579-b6ae67c31ff7",
   "metadata": {},
   "outputs": [],
   "source": [
    "# Convert text data into numerical feature vectors\n",
    "vectorizer = TfidfVectorizer(max_features=1000)  # Adjust max_features as needed\n",
    "X_train_vectors = vectorizer.fit_transform(X_train)\n",
    "X_test_vectors = vectorizer.transform(X_test)"
   ]
  },
  {
   "cell_type": "code",
   "execution_count": 23,
   "id": "e4a98d0d-8b70-4e6b-a197-35e1a8a4be15",
   "metadata": {},
   "outputs": [],
   "source": [
    "# Function to train, evaluate, and fine-tune models\n",
    "def evaluate_model(model, param_grid=None):\n",
    "    if param_grid:\n",
    "        grid_search = GridSearchCV(model, param_grid, cv=5)\n",
    "        grid_search.fit(X_train_vectors, y_train)\n",
    "        best_model = grid_search.best_estimator_\n",
    "        best_params = grid_search.best_params_\n",
    "        print(f\"Best Parameters: {best_params}\")\n",
    "    else:\n",
    "        best_model = model\n",
    "        best_model.fit(X_train_vectors, y_train)\n",
    "\n",
    "    y_pred = best_model.predict(X_test_vectors)\n",
    "    accuracy = accuracy_score(y_test, y_pred)\n",
    "    print(f\"Accuracy: {accuracy}\")\n",
    "    print(\"Classification Report:\")\n",
    "    print(classification_report(y_test, y_pred))\n",
    "    return best_model"
   ]
  },
  {
   "cell_type": "code",
   "execution_count": 24,
   "id": "4976b72a-6302-49f3-9c8d-c0fa21b81141",
   "metadata": {},
   "outputs": [
    {
     "name": "stdout",
     "output_type": "stream",
     "text": [
      "\n",
      "Logistic Regression Model\n",
      "Best Parameters: {'C': 10}\n",
      "Accuracy: 0.8436035008288623\n",
      "Classification Report:\n",
      "              precision    recall  f1-score   support\n",
      "\n",
      "           0       0.76      0.80      0.78     13358\n",
      "           1       0.46      0.09      0.15      4561\n",
      "           2       0.88      0.95      0.91     38182\n",
      "\n",
      "    accuracy                           0.84     56101\n",
      "   macro avg       0.70      0.61      0.61     56101\n",
      "weighted avg       0.82      0.84      0.82     56101\n",
      "\n"
     ]
    }
   ],
   "source": [
    "# Logistic Regression\n",
    "print(\"\\nLogistic Regression Model\")\n",
    "lr_model = LogisticRegression(max_iter=1000)\n",
    "lr_param_grid = {'C': [0.1, 1, 10]}\n",
    "lr_best_model = evaluate_model(lr_model, lr_param_grid)"
   ]
  },
  {
   "cell_type": "code",
   "execution_count": null,
   "id": "ce1cbd75-4c4d-455d-b523-174ca66831f5",
   "metadata": {},
   "outputs": [],
   "source": []
  },
  {
   "cell_type": "code",
   "execution_count": null,
   "id": "c85622cb-14f1-41c5-9e5d-e9ce2657101a",
   "metadata": {},
   "outputs": [],
   "source": []
  },
  {
   "cell_type": "code",
   "execution_count": null,
   "id": "dd88ee41-059e-40f9-8872-f170b9e7ea96",
   "metadata": {},
   "outputs": [],
   "source": []
  },
  {
   "cell_type": "code",
   "execution_count": null,
   "id": "74426ca1-a3fb-4468-baa4-920ea23791a6",
   "metadata": {},
   "outputs": [],
   "source": []
  },
  {
   "cell_type": "code",
   "execution_count": null,
   "id": "adea6a13-3d99-4c1e-98d6-39fbdff6717a",
   "metadata": {},
   "outputs": [],
   "source": []
  },
  {
   "cell_type": "code",
   "execution_count": null,
   "id": "21533483-a42e-4fca-87c7-7db298b4e724",
   "metadata": {},
   "outputs": [],
   "source": []
  },
  {
   "cell_type": "code",
   "execution_count": null,
   "id": "108c491f-3d18-4d19-8de9-a7ce39caf4dd",
   "metadata": {},
   "outputs": [],
   "source": []
  },
  {
   "cell_type": "code",
   "execution_count": null,
   "id": "d7d7cb79-900a-4e6c-89ee-3d1580266718",
   "metadata": {},
   "outputs": [],
   "source": []
  }
 ],
 "metadata": {
  "kernelspec": {
   "display_name": "Python 3 (ipykernel)",
   "language": "python",
   "name": "python3"
  },
  "language_info": {
   "codemirror_mode": {
    "name": "ipython",
    "version": 3
   },
   "file_extension": ".py",
   "mimetype": "text/x-python",
   "name": "python",
   "nbconvert_exporter": "python",
   "pygments_lexer": "ipython3",
   "version": "3.11.7"
  }
 },
 "nbformat": 4,
 "nbformat_minor": 5
}
